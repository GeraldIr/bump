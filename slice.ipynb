{
 "cells": [
  {
   "cell_type": "code",
   "execution_count": 3,
   "metadata": {},
   "outputs": [
    {
     "name": "stdout",
     "output_type": "stream",
     "text": [
      "23456789\n"
     ]
    }
   ],
   "source": [
    "test = \"123456789\"\n",
    "\n",
    "\n",
    "\n",
    "def parse_index_or_slice(s):\n",
    "    if \":\" in s:  # It's a slice\n",
    "        parts = s.split(\":\")\n",
    "        parts = [int(p) if p else None for p in parts]  # Convert to int or None\n",
    "        return slice(*parts)\n",
    "    else:  # It's a single index\n",
    "        return int(s)\n",
    "\n",
    "print(test[1:])"
   ]
  },
  {
   "cell_type": "code",
   "execution_count": 18,
   "metadata": {},
   "outputs": [
    {
     "name": "stdout",
     "output_type": "stream",
     "text": [
      "Match at index 11, 21\n",
      "Full match: on June 24\n",
      "Month: June\n",
      "June\n"
     ]
    }
   ],
   "source": [
    "import re\n",
    "regex = r\"on ([a-zA-Z]+) \\d+\"\n",
    "\n",
    "line = \"I was born on June 24\"\n",
    "\n",
    "match = re.search(regex, line)\n",
    "if match != None:\n",
    "    print (\"Match at index %s, %s\" % (match.start(), match.end()))\n",
    "    print (\"Full match: %s\" % (match.group(0)))\n",
    "    print (\"Month: %s\" % (match.group(1)))\n",
    "else:\n",
    "    print (\"The regex pattern does not match.\")\n",
    "\n",
    "new_string = f\"{match.string}\"\n",
    "\n",
    "\n",
    "print(match.group(1))"
   ]
  }
 ],
 "metadata": {
  "kernelspec": {
   "display_name": ".venv",
   "language": "python",
   "name": "python3"
  },
  "language_info": {
   "codemirror_mode": {
    "name": "ipython",
    "version": 3
   },
   "file_extension": ".py",
   "mimetype": "text/x-python",
   "name": "python",
   "nbconvert_exporter": "python",
   "pygments_lexer": "ipython3",
   "version": "3.10.12"
  }
 },
 "nbformat": 4,
 "nbformat_minor": 2
}
